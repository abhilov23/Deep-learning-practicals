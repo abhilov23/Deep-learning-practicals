{
 "cells": [
  {
   "cell_type": "markdown",
   "metadata": {
    "id": "i8udZzGmXnAh"
   },
   "source": [
    "|<h2>Course:</h2>|<h1><a href=\"https://udemy.com/course/deeplearning_x/?couponCode=202508\" target=\"_blank\">A deep understanding of deep learning</a></h1>|\n",
    "|-|:-:|\n",
    "|<h2>Section:</h2>|<h1>Math, numpy, pytorch<h1>|\n",
    "|<h2>Lecture:</h2>|<h1><b>Entropy and cross-entropy<b></h1>|\n",
    "\n",
    "<br>\n",
    "\n",
    "<h5><b>Teacher:</b> Mike X Cohen, <a href=\"https://sincxpress.com\" target=\"_blank\">sincxpress.com</a></h5>\n",
    "<h5><b>Course URL:</b> <a href=\"https://udemy.com/course/deeplearning_x/?couponCode=202508\" target=\"_blank\">udemy.com/course/deeplearning_x/?couponCode=202508</a></h5>\n",
    "<i>Using the code without the course may lead to confusion or errors.</i>"
   ]
  },
  {
   "cell_type": "code",
   "execution_count": 2,
   "metadata": {
    "id": "2TD8IyfBGXiY"
   },
   "outputs": [],
   "source": [
    "# import libraries\n",
    "import numpy as np\n",
    "import matplotlib.pyplot as plt"
   ]
  },
  {
   "cell_type": "markdown",
   "metadata": {
    "id": "yo63BJPf0cau"
   },
   "source": [
    "# Reminder of entropy:\n",
    "\n",
    "$$H(p) = -\\sum_x p(x)\\log(p(x))$$"
   ]
  },
  {
   "cell_type": "code",
   "execution_count": 3,
   "metadata": {
    "id": "vmjUxlEqGbDu"
   },
   "outputs": [
    {
     "name": "stdout",
     "output_type": "stream",
     "text": [
      "Wrong entropy: 0.34657359027997264\n"
     ]
    }
   ],
   "source": [
    "# probability of an event happening\n",
    "p = .25\n",
    "\n",
    "# NOT the correct formula!\n",
    "H = -( p*np.log(p) )\n",
    "print('Wrong entropy: ' + str(H))"
   ]
  },
  {
   "cell_type": "code",
   "execution_count": null,
   "metadata": {
    "id": "WHx3wf4Y0TJH"
   },
   "outputs": [],
   "source": []
  },
  {
   "cell_type": "code",
   "execution_count": 4,
   "metadata": {
    "id": "HdZadwd12RGv"
   },
   "outputs": [
    {
     "name": "stdout",
     "output_type": "stream",
     "text": [
      "Correct entropy: 0.5623351446188083\n"
     ]
    }
   ],
   "source": [
    "# the correct way to compute entropy\n",
    "x = [.25,.75]\n",
    "\n",
    "H = 0\n",
    "for p in x:\n",
    "  H -= p*np.log(p)\n",
    "\n",
    "print('Correct entropy: ' + str(H))"
   ]
  },
  {
   "cell_type": "code",
   "execution_count": 5,
   "metadata": {
    "id": "R_bGT7kd2ipR"
   },
   "outputs": [
    {
     "name": "stdout",
     "output_type": "stream",
     "text": [
      "Correct entropy: 0.5623351446188083\n"
     ]
    }
   ],
   "source": [
    "# also correct, written out for N=2 events\n",
    "H = -( p*np.log(p) + (1-p)*np.log(1-p) )\n",
    "print('Correct entropy: ' + str(H))"
   ]
  },
  {
   "cell_type": "markdown",
   "metadata": {
    "id": "qFN5779d1ebD"
   },
   "source": [
    "# Cross-entropy"
   ]
  },
  {
   "cell_type": "code",
   "execution_count": 6,
   "metadata": {
    "id": "sOug_tPzHY1y"
   },
   "outputs": [
    {
     "name": "stdout",
     "output_type": "stream",
     "text": [
      "Cross entropy: 1.3862943611198906\n"
     ]
    }
   ],
   "source": [
    "# note: all probs must sum to 1!\n",
    "p = [   1,0   ] # sum=1\n",
    "q = [ .25,.75 ] # sum=1\n",
    "\n",
    "H = 0\n",
    "for i in range(len(p)):\n",
    "  H -= p[i]*np.log(q[i])\n",
    "\n",
    "print('Cross entropy: ' + str(H))"
   ]
  },
  {
   "cell_type": "code",
   "execution_count": 7,
   "metadata": {
    "id": "8H1p7JUr3Pn4"
   },
   "outputs": [
    {
     "name": "stdout",
     "output_type": "stream",
     "text": [
      "Correct entropy: 1.3862943611198906\n",
      "Manually simplified: 1.3862943611198906\n"
     ]
    }
   ],
   "source": [
    "# also correct, written out for N=2 events\n",
    "H = -( p[0]*np.log(q[0]) + p[1]*np.log(q[1]) )\n",
    "print('Correct entropy: ' + str(H))\n",
    "\n",
    "# simplification\n",
    "H = -np.log(q[0])\n",
    "print('Manually simplified: ' + str(H))"
   ]
  },
  {
   "cell_type": "code",
   "execution_count": 8,
   "metadata": {
    "id": "fAHoba2V4QgO"
   },
   "outputs": [
    {
     "ename": "AttributeError",
     "evalue": "'list' object has no attribute 'size'",
     "output_type": "error",
     "traceback": [
      "\u001b[31m---------------------------------------------------------------------------\u001b[39m",
      "\u001b[31mAttributeError\u001b[39m                            Traceback (most recent call last)",
      "\u001b[36mCell\u001b[39m\u001b[36m \u001b[39m\u001b[32mIn[8]\u001b[39m\u001b[32m, line 9\u001b[39m\n\u001b[32m      6\u001b[39m q_tensor = torch.Tensor(q)\n\u001b[32m      7\u001b[39m p_tensor = torch.Tensor(p)\n\u001b[32m----> \u001b[39m\u001b[32m9\u001b[39m \u001b[43mF\u001b[49m\u001b[43m.\u001b[49m\u001b[43mbinary_cross_entropy\u001b[49m\u001b[43m(\u001b[49m\u001b[43mp\u001b[49m\u001b[43m,\u001b[49m\u001b[43mq\u001b[49m\u001b[43m)\u001b[49m\n",
      "\u001b[36mFile \u001b[39m\u001b[32md:\\Programs\\Github\\Deep-learning-practicals\\myenv\\Lib\\site-packages\\torch\\nn\\functional.py:3520\u001b[39m, in \u001b[36mbinary_cross_entropy\u001b[39m\u001b[34m(input, target, weight, size_average, reduce, reduction)\u001b[39m\n\u001b[32m   3518\u001b[39m \u001b[38;5;28;01melse\u001b[39;00m:\n\u001b[32m   3519\u001b[39m     reduction_enum = _Reduction.get_enum(reduction)\n\u001b[32m-> \u001b[39m\u001b[32m3520\u001b[39m \u001b[38;5;28;01mif\u001b[39;00m \u001b[43mtarget\u001b[49m\u001b[43m.\u001b[49m\u001b[43msize\u001b[49m() != \u001b[38;5;28minput\u001b[39m.size():\n\u001b[32m   3521\u001b[39m     \u001b[38;5;28;01mraise\u001b[39;00m \u001b[38;5;167;01mValueError\u001b[39;00m(\n\u001b[32m   3522\u001b[39m         \u001b[33mf\u001b[39m\u001b[33m\"\u001b[39m\u001b[33mUsing a target size (\u001b[39m\u001b[38;5;132;01m{\u001b[39;00mtarget.size()\u001b[38;5;132;01m}\u001b[39;00m\u001b[33m) that is different to the input size (\u001b[39m\u001b[38;5;132;01m{\u001b[39;00m\u001b[38;5;28minput\u001b[39m.size()\u001b[38;5;132;01m}\u001b[39;00m\u001b[33m) is deprecated. \u001b[39m\u001b[33m\"\u001b[39m\n\u001b[32m   3523\u001b[39m         \u001b[33m\"\u001b[39m\u001b[33mPlease ensure they have the same size.\u001b[39m\u001b[33m\"\u001b[39m\n\u001b[32m   3524\u001b[39m     )\n\u001b[32m   3526\u001b[39m \u001b[38;5;28;01mif\u001b[39;00m weight \u001b[38;5;129;01mis\u001b[39;00m \u001b[38;5;129;01mnot\u001b[39;00m \u001b[38;5;28;01mNone\u001b[39;00m:\n",
      "\u001b[31mAttributeError\u001b[39m: 'list' object has no attribute 'size'"
     ]
    }
   ],
   "source": [
    "# now using pytorch\n",
    "import torch\n",
    "import torch.nn.functional as F\n",
    "\n",
    "# note: inputs must be Tensors\n",
    "q_tensor = torch.Tensor(q)\n",
    "p_tensor = torch.Tensor(p)\n",
    "\n",
    "F.binary_cross_entropy(p,q)"
   ]
  },
  {
   "cell_type": "code",
   "execution_count": null,
   "metadata": {
    "colab": {
     "base_uri": "https://localhost:8080/",
     "height": 36
    },
    "executionInfo": {
     "elapsed": 4,
     "status": "ok",
     "timestamp": 1692941200690,
     "user": {
      "displayName": "Mike X Cohen",
      "userId": "13901636194183843661"
     },
     "user_tz": -180
    },
    "id": "QBQabnEEJisd",
    "outputId": "c0f67256-1c5e-4929-86b8-ec36f2db4f1d"
   },
   "outputs": [
    {
     "data": {
      "application/vnd.google.colaboratory.intrinsic+json": {
       "type": "string"
      },
      "text/plain": [
       "'2.0.1+cu118'"
      ]
     },
     "execution_count": 14,
     "metadata": {},
     "output_type": "execute_result"
    }
   ],
   "source": []
  }
 ],
 "metadata": {
  "colab": {
   "provenance": [
    {
     "file_id": "1oDaogKfz9gQYSAyQT-uF9xRI3EdrtokO",
     "timestamp": 1618209287295
    }
   ]
  },
  "kernelspec": {
   "display_name": "myenv",
   "language": "python",
   "name": "python3"
  },
  "language_info": {
   "codemirror_mode": {
    "name": "ipython",
    "version": 3
   },
   "file_extension": ".py",
   "mimetype": "text/x-python",
   "name": "python",
   "nbconvert_exporter": "python",
   "pygments_lexer": "ipython3",
   "version": "3.13.7"
  }
 },
 "nbformat": 4,
 "nbformat_minor": 0
}
